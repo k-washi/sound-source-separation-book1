{
 "metadata": {
  "language_info": {
   "codemirror_mode": {
    "name": "ipython",
    "version": 3
   },
   "file_extension": ".py",
   "mimetype": "text/x-python",
   "name": "python",
   "nbconvert_exporter": "python",
   "pygments_lexer": "ipython3",
   "version": "3.8.5-final"
  },
  "orig_nbformat": 2,
  "kernelspec": {
   "name": "python3",
   "display_name": "Python 3.8.5 64-bit ('sss': venv)",
   "metadata": {
    "interpreter": {
     "hash": "f6fedf1f8594c30fa32190660d160c3131393d8c12414e0617c2e743c0fca8d2"
    }
   }
  }
 },
 "nbformat": 4,
 "nbformat_minor": 2,
 "cells": [
  {
   "source": [
    "# 室内伝達関数のシミュレーションと畳み込み"
   ],
   "cell_type": "markdown",
   "metadata": {}
  },
  {
   "cell_type": "code",
   "execution_count": 62,
   "metadata": {},
   "outputs": [],
   "source": [
    "import wave as wave\n",
    "import pyroomacoustics as pa\n",
    "import numpy as np\n",
    "import os"
   ]
  },
  {
   "cell_type": "code",
   "execution_count": 63,
   "metadata": {},
   "outputs": [],
   "source": [
    "np.random.seed(0)"
   ]
  },
  {
   "cell_type": "code",
   "execution_count": 64,
   "metadata": {},
   "outputs": [],
   "source": [
    "clean_wave_files=[\"./dataset/cmu_us_aew_arctic/wav/arctic_a0001.wav\", \"./dataset/cmu_us_axb_arctic/wav/arctic_a0002.wav\"]\n",
    "for sound_file in clean_wave_files:\n",
    "    if not os.path.exists(sound_file):\n",
    "        print(f\"{sound_file} is not found\")"
   ]
  },
  {
   "cell_type": "code",
   "execution_count": 65,
   "metadata": {},
   "outputs": [],
   "source": [
    "# 音源数\n",
    "n_sources=len(clean_wave_files)"
   ]
  },
  {
   "cell_type": "code",
   "execution_count": 66,
   "metadata": {},
   "outputs": [
    {
     "output_type": "stream",
     "name": "stdout",
     "text": [
      "62081\n"
     ]
    }
   ],
   "source": [
    "# ファイルの長さ\n",
    "n_samples = 0\n",
    "for clean_wave_file in clean_wave_files:\n",
    "    with wave.open(clean_wave_file) as wav:\n",
    "        if n_samples < wav.getnframes():\n",
    "            n_samples = wav.getnframes()\n",
    "print(n_samples)"
   ]
  },
  {
   "cell_type": "code",
   "execution_count": 67,
   "metadata": {},
   "outputs": [],
   "source": [
    "clean_data = np.zeros([n_sources, n_samples])"
   ]
  },
  {
   "cell_type": "code",
   "execution_count": 68,
   "metadata": {},
   "outputs": [],
   "source": [
    "# 音源データの読み込み\n",
    "s = 0\n",
    "for clean_wave_file in clean_wave_files:\n",
    "    wav = wave.open(clean_wave_file)\n",
    "    if wav is None:\n",
    "        raise FileExistsError(f\"{clean_wave_file} is not found.\")\n",
    "\n",
    "    data = wav.readframes(wav.getnframes())\n",
    "    data = np.frombuffer(data, dtype=np.int16)\n",
    "    data = data/np.iinfo(np.int16).max\n",
    "    clean_data[s, :wav.getnframes()] = data\n",
    "    wav.close()\n",
    "    s+=1"
   ]
  },
  {
   "cell_type": "code",
   "execution_count": 69,
   "metadata": {},
   "outputs": [
    {
     "output_type": "stream",
     "name": "stdout",
     "text": [
      "mic array pos: [0.88202617 0.2000786  0.48936899]\n[[0.87202617 0.2000786  0.48936899]\n [0.89202617 0.2000786  0.48936899]\n [0.91202617 0.2000786  0.48936899]]\n"
     ]
    }
   ],
   "source": [
    "# シミュレーションのパラメータ設定\n",
    "sample_rate = 16000\n",
    "SNR=10\n",
    "room_dim = np.r_[10.0, 10.0, 10.0] # 部屋の大きさ\n",
    "\n",
    "# マイクロホンアレイを置く部屋の位置\n",
    "mic_array_loc = room_dim / 2 * np.random.randn(3)*0.1\n",
    "print(f\"mic array pos: {mic_array_loc}\")\n",
    "\n",
    "# マイクロホンアレイ中心に対するマイクロホン配置\n",
    "mic_alignments = np.array(\n",
    "    [\n",
    "        [-0.01, 0., 0.],\n",
    "        [0.01, 0., 0.],\n",
    "        [0.03, 0., 0.]\n",
    "    ]\n",
    ")\n",
    "\n",
    "n_channels = np.shape(mic_alignments)[0]\n",
    "R = mic_alignments.T + mic_array_loc[:, None]\n",
    "\n",
    "print(R.T)"
   ]
  },
  {
   "cell_type": "code",
   "execution_count": 70,
   "metadata": {},
   "outputs": [
    {
     "output_type": "execute_result",
     "data": {
      "text/plain": [
       "<pyroomacoustics.room.ShoeBox at 0x1262f8ca0>"
      ]
     },
     "metadata": {},
     "execution_count": 70
    }
   ],
   "source": [
    "# 部屋を生成\n",
    "room = pa.ShoeBox(room_dim, fs=sample_rate, max_order=17, absorption=0.35)\n",
    "room.add_microphone_array(pa.MicrophoneArray(R, fs=room.fs))"
   ]
  },
  {
   "cell_type": "code",
   "execution_count": 71,
   "metadata": {},
   "outputs": [],
   "source": [
    "# 音源の場所\n",
    "doas = np.array(\n",
    "    [\n",
    "        [np.pi / 2., 0],\n",
    "        [np.pi / 2., np.pi/2.]\n",
    "    ]\n",
    ")"
   ]
  },
  {
   "cell_type": "code",
   "execution_count": 72,
   "metadata": {},
   "outputs": [
    {
     "output_type": "stream",
     "name": "stdout",
     "text": [
      "[[1.88202617 0.2000786  0.48936899]\n [0.88202617 1.2000786  0.48936899]]\n"
     ]
    }
   ],
   "source": [
    "# 音源とマイクロホンの距離\n",
    "distance=1.\n",
    "source_locations=np.zeros((3, doas.shape[0]), dtype=doas.dtype)\n",
    "source_locations[0, :] = np.cos(doas[:, 1]) * np.sin(doas[:, 0])\n",
    "source_locations[1, :] = np.sin(doas[:, 1]) * np.sin(doas[:, 0])\n",
    "source_locations[2, :] = np.cos(doas[:, 0])\n",
    "\n",
    "source_locations *= distance\n",
    "source_locations += mic_array_loc[:, None]\n",
    "print(source_locations.T)"
   ]
  },
  {
   "cell_type": "code",
   "execution_count": 73,
   "metadata": {},
   "outputs": [],
   "source": [
    "# 各音源をシミュレーションに追加する\n",
    "for s in range(n_sources):\n",
    "    clean_data[s] /= np.std(clean_data[s])\n",
    "    room.add_source(source_locations[:, s], signal=clean_data[s])"
   ]
  },
  {
   "cell_type": "code",
   "execution_count": 74,
   "metadata": {},
   "outputs": [],
   "source": [
    "room.simulate(snr=SNR)"
   ]
  },
  {
   "source": [
    "# インパルス 応答の取得と残響時間の取得"
   ],
   "cell_type": "markdown",
   "metadata": {}
  },
  {
   "cell_type": "code",
   "execution_count": 75,
   "metadata": {},
   "outputs": [
    {
     "output_type": "stream",
     "name": "stdout",
     "text": [
      "残響時間: 0.348125 sec\n"
     ]
    }
   ],
   "source": [
    "inpulse_responses = room.rir\n",
    "rt60 = pa.experimental.measure_rt60(inpulse_responses[0][0], fs=sample_rate)\n",
    "print(f\"残響時間: {rt60} sec\")"
   ]
  },
  {
   "cell_type": "code",
   "execution_count": null,
   "metadata": {},
   "outputs": [],
   "source": []
  },
  {
   "cell_type": "code",
   "execution_count": null,
   "metadata": {},
   "outputs": [],
   "source": []
  },
  {
   "cell_type": "code",
   "execution_count": null,
   "metadata": {},
   "outputs": [],
   "source": []
  },
  {
   "cell_type": "code",
   "execution_count": null,
   "metadata": {},
   "outputs": [],
   "source": []
  },
  {
   "cell_type": "code",
   "execution_count": null,
   "metadata": {},
   "outputs": [],
   "source": []
  }
 ]
}